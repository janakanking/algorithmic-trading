{
  "metadata": {
    "kernelspec": {
      "language": "python",
      "display_name": "Python 3",
      "name": "python3"
    },
    "language_info": {
      "name": "python",
      "version": "3.10.10",
      "mimetype": "text/x-python",
      "codemirror_mode": {
        "name": "ipython",
        "version": 3
      },
      "pygments_lexer": "ipython3",
      "nbconvert_exporter": "python",
      "file_extension": ".py"
    },
    "kaggle": {
      "accelerator": "none",
      "dataSources": [
        {
          "sourceId": 5905701,
          "sourceType": "datasetVersion",
          "datasetId": 3391382
        }
      ],
      "dockerImageVersionId": 30497,
      "isInternetEnabled": false,
      "language": "python",
      "sourceType": "notebook",
      "isGpuEnabled": false
    },
    "colab": {
      "name": "Algorithmic Trading: Case",
      "provenance": []
    }
  },
  "nbformat_minor": 0,
  "nbformat": 4,
  "cells": [
    {
      "source": [
        "# IMPORTANT: RUN THIS CELL IN ORDER TO IMPORT YOUR KAGGLE DATA SOURCES,\n",
        "# THEN FEEL FREE TO DELETE THIS CELL.\n",
        "# NOTE: THIS NOTEBOOK ENVIRONMENT DIFFERS FROM KAGGLE'S PYTHON\n",
        "# ENVIRONMENT SO THERE MAY BE MISSING LIBRARIES USED BY YOUR\n",
        "# NOTEBOOK.\n",
        "import kagglehub\n",
        "bhanupratapbiswas_algorithmic_trading_case_study_path = kagglehub.dataset_download('bhanupratapbiswas/algorithmic-trading-case-study')\n",
        "\n",
        "print('Data source import complete.')\n"
      ],
      "metadata": {
        "id": "7duf1yv39t1B"
      },
      "cell_type": "code",
      "outputs": [],
      "execution_count": null
    },
    {
      "cell_type": "code",
      "source": [
        "# This Python 3 environment comes with many helpful analytics libraries installed\n",
        "# It is defined by the kaggle/python Docker image: https://github.com/kaggle/docker-python\n",
        "# For example, here's several helpful packages to load\n",
        "\n",
        "import numpy as np # linear algebra\n",
        "import pandas as pd # data processing, CSV file I/O (e.g. pd.read_csv)\n",
        "\n",
        "# Input data files are available in the read-only \"../input/\" directory\n",
        "# For example, running this (by clicking run or pressing Shift+Enter) will list all files under the input directory\n",
        "\n",
        "import os\n",
        "for dirname, _, filenames in os.walk('/kaggle/input'):\n",
        "    for filename in filenames:\n",
        "        print(os.path.join(dirname, filename))\n",
        "\n",
        "# You can write up to 20GB to the current directory (/kaggle/working/) that gets preserved as output when you create a version using \"Save & Run All\"\n",
        "# You can also write temporary files to /kaggle/temp/, but they won't be saved outside of the current session"
      ],
      "metadata": {
        "_uuid": "8f2839f25d086af736a60e9eeb907d3b93b6e0e5",
        "_cell_guid": "b1076dfc-b9ad-4769-8c92-a6c4dae69d19",
        "execution": {
          "iopub.status.busy": "2024-11-14T12:10:42.291029Z",
          "iopub.execute_input": "2024-11-14T12:10:42.291497Z",
          "iopub.status.idle": "2024-11-14T12:10:42.340589Z",
          "shell.execute_reply.started": "2024-11-14T12:10:42.291429Z",
          "shell.execute_reply": "2024-11-14T12:10:42.339213Z"
        },
        "trusted": true,
        "id": "AsFaqWIK9t1H",
        "outputId": "56411c16-2561-4c0e-abab-5639c5b353fc"
      },
      "execution_count": null,
      "outputs": [
        {
          "name": "stdout",
          "text": "/kaggle/input/algorithmic-trading-case-study/algorithmictrading/aapl.csv\n",
          "output_type": "stream"
        }
      ]
    },
    {
      "cell_type": "code",
      "source": [
        "df = pd.read_csv('/kaggle/input/algorithmic-trading-case-study/algorithmictrading/aapl.csv')"
      ],
      "metadata": {
        "execution": {
          "iopub.status.busy": "2023-06-13T11:50:50.067454Z",
          "iopub.execute_input": "2023-06-13T11:50:50.068045Z",
          "iopub.status.idle": "2023-06-13T11:50:50.098059Z",
          "shell.execute_reply.started": "2023-06-13T11:50:50.068005Z",
          "shell.execute_reply": "2023-06-13T11:50:50.096866Z"
        },
        "trusted": true,
        "id": "fxVSXAAs9t1J"
      },
      "execution_count": null,
      "outputs": []
    },
    {
      "cell_type": "code",
      "source": [
        "df.head(2)"
      ],
      "metadata": {
        "execution": {
          "iopub.status.busy": "2023-06-13T11:50:50.099661Z",
          "iopub.execute_input": "2023-06-13T11:50:50.100024Z",
          "iopub.status.idle": "2023-06-13T11:50:50.130888Z",
          "shell.execute_reply.started": "2023-06-13T11:50:50.099996Z",
          "shell.execute_reply": "2023-06-13T11:50:50.129896Z"
        },
        "trusted": true,
        "id": "IMHhePk-9t1K"
      },
      "execution_count": null,
      "outputs": []
    },
    {
      "cell_type": "markdown",
      "source": [
        "# Data Preprocessing:"
      ],
      "metadata": {
        "id": "A0NusAW49t1L"
      }
    },
    {
      "cell_type": "code",
      "source": [
        "df['Date'] = pd.to_datetime(df['Date'])"
      ],
      "metadata": {
        "execution": {
          "iopub.status.busy": "2023-06-13T11:50:50.132883Z",
          "iopub.execute_input": "2023-06-13T11:50:50.133189Z",
          "iopub.status.idle": "2023-06-13T11:50:50.176486Z",
          "shell.execute_reply.started": "2023-06-13T11:50:50.133164Z",
          "shell.execute_reply": "2023-06-13T11:50:50.175358Z"
        },
        "trusted": true,
        "id": "nexQqbLx9t1M"
      },
      "execution_count": null,
      "outputs": []
    },
    {
      "cell_type": "code",
      "source": [
        "df['Daily_Return'] = df['Close'].pct_change()"
      ],
      "metadata": {
        "execution": {
          "iopub.status.busy": "2023-06-13T11:50:50.177765Z",
          "iopub.execute_input": "2023-06-13T11:50:50.178614Z",
          "iopub.status.idle": "2023-06-13T11:50:50.189002Z",
          "shell.execute_reply.started": "2023-06-13T11:50:50.178583Z",
          "shell.execute_reply": "2023-06-13T11:50:50.187995Z"
        },
        "trusted": true,
        "id": "NaFaqGP69t1N"
      },
      "execution_count": null,
      "outputs": []
    },
    {
      "cell_type": "code",
      "source": [
        "df['MA_10'] = df['Close'].rolling(window=10).mean()\n",
        "df['MA_50'] = df['Close'].rolling(window=50).mean()\n"
      ],
      "metadata": {
        "execution": {
          "iopub.status.busy": "2023-06-13T11:50:50.190502Z",
          "iopub.execute_input": "2023-06-13T11:50:50.191047Z",
          "iopub.status.idle": "2023-06-13T11:50:50.209524Z",
          "shell.execute_reply.started": "2023-06-13T11:50:50.191018Z",
          "shell.execute_reply": "2023-06-13T11:50:50.20799Z"
        },
        "trusted": true,
        "id": "AKU5SXWH9t1O"
      },
      "execution_count": null,
      "outputs": []
    },
    {
      "cell_type": "code",
      "source": [
        "df.head(2)"
      ],
      "metadata": {
        "execution": {
          "iopub.status.busy": "2023-06-13T11:50:50.210914Z",
          "iopub.execute_input": "2023-06-13T11:50:50.211278Z",
          "iopub.status.idle": "2023-06-13T11:50:50.226464Z",
          "shell.execute_reply.started": "2023-06-13T11:50:50.211213Z",
          "shell.execute_reply": "2023-06-13T11:50:50.22557Z"
        },
        "trusted": true,
        "id": "0qpQlOvy9t1P"
      },
      "execution_count": null,
      "outputs": []
    },
    {
      "cell_type": "code",
      "source": [
        "df.describe().transpose()"
      ],
      "metadata": {
        "execution": {
          "iopub.status.busy": "2023-06-13T11:50:50.227398Z",
          "iopub.execute_input": "2023-06-13T11:50:50.228026Z",
          "iopub.status.idle": "2023-06-13T11:50:50.274832Z",
          "shell.execute_reply.started": "2023-06-13T11:50:50.227998Z",
          "shell.execute_reply": "2023-06-13T11:50:50.273753Z"
        },
        "trusted": true,
        "id": "pvDXvB-X9t1Q"
      },
      "execution_count": null,
      "outputs": []
    },
    {
      "cell_type": "code",
      "source": [
        "df.isna().sum()"
      ],
      "metadata": {
        "execution": {
          "iopub.status.busy": "2023-06-13T11:50:50.277659Z",
          "iopub.execute_input": "2023-06-13T11:50:50.27798Z",
          "iopub.status.idle": "2023-06-13T11:50:50.286558Z",
          "shell.execute_reply.started": "2023-06-13T11:50:50.277955Z",
          "shell.execute_reply": "2023-06-13T11:50:50.285626Z"
        },
        "trusted": true,
        "id": "oskz1bJt9t1Q"
      },
      "execution_count": null,
      "outputs": []
    },
    {
      "cell_type": "code",
      "source": [
        "df.fillna(df['Daily_Return'].mean())"
      ],
      "metadata": {
        "execution": {
          "iopub.status.busy": "2023-06-13T11:50:50.288158Z",
          "iopub.execute_input": "2023-06-13T11:50:50.288461Z",
          "iopub.status.idle": "2023-06-13T11:50:50.310888Z",
          "shell.execute_reply.started": "2023-06-13T11:50:50.288437Z",
          "shell.execute_reply": "2023-06-13T11:50:50.309745Z"
        },
        "trusted": true,
        "id": "f-7LbDoP9t1Q"
      },
      "execution_count": null,
      "outputs": []
    },
    {
      "cell_type": "code",
      "source": [
        "df.isna().sum()"
      ],
      "metadata": {
        "execution": {
          "iopub.status.busy": "2023-06-13T11:50:50.3124Z",
          "iopub.execute_input": "2023-06-13T11:50:50.312758Z",
          "iopub.status.idle": "2023-06-13T11:50:50.323909Z",
          "shell.execute_reply.started": "2023-06-13T11:50:50.312721Z",
          "shell.execute_reply": "2023-06-13T11:50:50.322916Z"
        },
        "trusted": true,
        "id": "o9vlTiEH9t1R"
      },
      "execution_count": null,
      "outputs": []
    },
    {
      "cell_type": "code",
      "source": [
        "df.info()"
      ],
      "metadata": {
        "execution": {
          "iopub.status.busy": "2023-06-13T11:50:50.325309Z",
          "iopub.execute_input": "2023-06-13T11:50:50.326074Z",
          "iopub.status.idle": "2023-06-13T11:50:50.345726Z",
          "shell.execute_reply.started": "2023-06-13T11:50:50.326036Z",
          "shell.execute_reply": "2023-06-13T11:50:50.344342Z"
        },
        "trusted": true,
        "id": "4tgXe0Wc9t1R"
      },
      "execution_count": null,
      "outputs": []
    },
    {
      "cell_type": "code",
      "source": [
        "import matplotlib.pyplot as plt\n",
        "import seaborn as sns\n",
        "!pip install seaborn"
      ],
      "metadata": {
        "execution": {
          "iopub.status.busy": "2023-06-13T11:50:50.347489Z",
          "iopub.execute_input": "2023-06-13T11:50:50.348167Z",
          "iopub.status.idle": "2023-06-13T11:51:03.900254Z",
          "shell.execute_reply.started": "2023-06-13T11:50:50.348131Z",
          "shell.execute_reply": "2023-06-13T11:51:03.898724Z"
        },
        "trusted": true,
        "id": "mlWvV4-89t1R"
      },
      "execution_count": null,
      "outputs": []
    },
    {
      "cell_type": "markdown",
      "source": [
        "# Visualize Distributions"
      ],
      "metadata": {
        "id": "CzEsGNeE9t1S"
      }
    },
    {
      "cell_type": "code",
      "source": [
        "sns.distplot(df['High'])\n",
        "\n",
        "\n",
        "plt.show()"
      ],
      "metadata": {
        "execution": {
          "iopub.status.busy": "2023-06-13T11:51:03.902114Z",
          "iopub.execute_input": "2023-06-13T11:51:03.902514Z",
          "iopub.status.idle": "2023-06-13T11:51:04.248216Z",
          "shell.execute_reply.started": "2023-06-13T11:51:03.902475Z",
          "shell.execute_reply": "2023-06-13T11:51:04.247173Z"
        },
        "trusted": true,
        "id": "KiMBNBbz9t1S"
      },
      "execution_count": null,
      "outputs": []
    },
    {
      "cell_type": "code",
      "source": [
        "sns.set_theme(style=\"whitegrid\")"
      ],
      "metadata": {
        "execution": {
          "iopub.status.busy": "2023-06-13T11:51:04.249636Z",
          "iopub.execute_input": "2023-06-13T11:51:04.249975Z",
          "iopub.status.idle": "2023-06-13T11:51:04.255259Z",
          "shell.execute_reply.started": "2023-06-13T11:51:04.249948Z",
          "shell.execute_reply": "2023-06-13T11:51:04.254175Z"
        },
        "trusted": true,
        "id": "e4UgeieO9t1S"
      },
      "execution_count": null,
      "outputs": []
    },
    {
      "cell_type": "code",
      "source": [
        "# Create the line plot\n",
        "plt.plot(df['High'], label='High')\n",
        "plt.plot(df['Low'], label='Low')\n",
        "\n",
        "# Set the plot title and labels\n",
        "plt.title('High and Low Prices')\n",
        "plt.xlabel('Date')\n",
        "plt.ylabel('Price')\n",
        "\n",
        "# Show the legend\n",
        "plt.legend()\n",
        "\n",
        "# Display the plot\n",
        "plt.show()"
      ],
      "metadata": {
        "execution": {
          "iopub.status.busy": "2023-06-13T11:51:04.256583Z",
          "iopub.execute_input": "2023-06-13T11:51:04.256918Z",
          "iopub.status.idle": "2023-06-13T11:51:04.635024Z",
          "shell.execute_reply.started": "2023-06-13T11:51:04.25689Z",
          "shell.execute_reply": "2023-06-13T11:51:04.633895Z"
        },
        "trusted": true,
        "id": "TPu4VRRw9t1S"
      },
      "execution_count": null,
      "outputs": []
    },
    {
      "cell_type": "code",
      "source": [
        "heatmap_data = df.pivot(\"High\", \"Volume\", \"Volume\")\n",
        "\n",
        "# Create the heatmap\n",
        "plt.figure(figsize=(12, 8))\n",
        "sns.heatmap(heatmap_data, cmap='Blues', cbar=True)\n",
        "\n",
        "# Set the plot title and labels\n",
        "plt.title('Volume Heatmap')\n",
        "plt.xlabel('Volume')\n",
        "plt.ylabel('Date')\n",
        "\n",
        "# Display the plot\n",
        "plt.show()"
      ],
      "metadata": {
        "execution": {
          "iopub.status.busy": "2023-06-13T11:51:04.636319Z",
          "iopub.execute_input": "2023-06-13T11:51:04.637985Z",
          "iopub.status.idle": "2023-06-13T11:51:06.028577Z",
          "shell.execute_reply.started": "2023-06-13T11:51:04.63795Z",
          "shell.execute_reply": "2023-06-13T11:51:06.027719Z"
        },
        "trusted": true,
        "id": "Rk5xnwFa9t1T"
      },
      "execution_count": null,
      "outputs": []
    },
    {
      "cell_type": "code",
      "source": [
        "grouped_df = df.groupby('Date')['Daily_Return'].mean().reset_index()\n",
        "\n",
        "# Separate positive and negative returns\n",
        "positive_returns = grouped_df[grouped_df['Daily_Return'] > 0]\n",
        "negative_returns = grouped_df[grouped_df['Daily_Return'] < 0]\n",
        "\n",
        "# Create the grouped bar plot\n",
        "plt.figure(figsize=(12, 8))\n",
        "plt.bar(positive_returns['Date'], positive_returns['Daily_Return'], color='green', label='Positive Returns')\n",
        "plt.bar(negative_returns['Date'], negative_returns['Daily_Return'], color='red', label='Negative Returns')\n",
        "\n",
        "# Set the plot title and labels\n",
        "plt.title('Grouped Bar Plot of Daily Returns')\n",
        "plt.xlabel('Date')\n",
        "plt.ylabel('Daily Return')\n",
        "\n",
        "# Rotate the x-axis tick labels for better readability\n",
        "plt.xticks(rotation=45)\n",
        "\n",
        "# Show the legend\n",
        "plt.legend()\n",
        "\n",
        "# Display the plot\n",
        "plt.show()"
      ],
      "metadata": {
        "execution": {
          "iopub.status.busy": "2023-06-13T11:51:06.02989Z",
          "iopub.execute_input": "2023-06-13T11:51:06.030268Z",
          "iopub.status.idle": "2023-06-13T11:51:07.005105Z",
          "shell.execute_reply.started": "2023-06-13T11:51:06.030235Z",
          "shell.execute_reply": "2023-06-13T11:51:07.003931Z"
        },
        "trusted": true,
        "id": "esDOSH4I9t1T"
      },
      "execution_count": null,
      "outputs": []
    },
    {
      "cell_type": "code",
      "source": [
        "df.head(2).transpose()"
      ],
      "metadata": {
        "execution": {
          "iopub.status.busy": "2023-06-13T11:51:07.00642Z",
          "iopub.execute_input": "2023-06-13T11:51:07.00678Z",
          "iopub.status.idle": "2023-06-13T11:51:07.018028Z",
          "shell.execute_reply.started": "2023-06-13T11:51:07.00675Z",
          "shell.execute_reply": "2023-06-13T11:51:07.017011Z"
        },
        "trusted": true,
        "id": "9MhPH8o09t1T"
      },
      "execution_count": null,
      "outputs": []
    },
    {
      "cell_type": "code",
      "source": [
        "df.dropna()"
      ],
      "metadata": {
        "execution": {
          "iopub.status.busy": "2023-06-13T11:51:07.019702Z",
          "iopub.execute_input": "2023-06-13T11:51:07.020493Z",
          "iopub.status.idle": "2023-06-13T11:51:07.052402Z",
          "shell.execute_reply.started": "2023-06-13T11:51:07.020463Z",
          "shell.execute_reply": "2023-06-13T11:51:07.051162Z"
        },
        "trusted": true,
        "id": "9Wk2-xAP9t1U"
      },
      "execution_count": null,
      "outputs": []
    },
    {
      "cell_type": "code",
      "source": [
        "df.nunique()"
      ],
      "metadata": {
        "execution": {
          "iopub.status.busy": "2023-06-13T11:51:07.056482Z",
          "iopub.execute_input": "2023-06-13T11:51:07.056828Z",
          "iopub.status.idle": "2023-06-13T11:51:07.067289Z",
          "shell.execute_reply.started": "2023-06-13T11:51:07.056799Z",
          "shell.execute_reply": "2023-06-13T11:51:07.066325Z"
        },
        "trusted": true,
        "id": "Ak-h3fek9t1U"
      },
      "execution_count": null,
      "outputs": []
    },
    {
      "cell_type": "code",
      "source": [
        "df.isnull().sum()"
      ],
      "metadata": {
        "execution": {
          "iopub.status.busy": "2023-06-13T11:51:07.068458Z",
          "iopub.execute_input": "2023-06-13T11:51:07.068739Z",
          "iopub.status.idle": "2023-06-13T11:51:07.077364Z",
          "shell.execute_reply.started": "2023-06-13T11:51:07.068715Z",
          "shell.execute_reply": "2023-06-13T11:51:07.076305Z"
        },
        "trusted": true,
        "id": "oDC1i0w99t1V"
      },
      "execution_count": null,
      "outputs": []
    },
    {
      "cell_type": "code",
      "source": [
        "df.drop('MA_10', axis=1, inplace=True)"
      ],
      "metadata": {
        "execution": {
          "iopub.status.busy": "2023-06-13T11:51:07.078888Z",
          "iopub.execute_input": "2023-06-13T11:51:07.079309Z",
          "iopub.status.idle": "2023-06-13T11:51:07.086909Z",
          "shell.execute_reply.started": "2023-06-13T11:51:07.079281Z",
          "shell.execute_reply": "2023-06-13T11:51:07.08591Z"
        },
        "trusted": true,
        "id": "CABTdOj89t1V"
      },
      "execution_count": null,
      "outputs": []
    },
    {
      "cell_type": "code",
      "source": [
        "df.drop('MA_50', axis=1, inplace=True)"
      ],
      "metadata": {
        "execution": {
          "iopub.status.busy": "2023-06-13T11:51:07.08829Z",
          "iopub.execute_input": "2023-06-13T11:51:07.088888Z",
          "iopub.status.idle": "2023-06-13T11:51:07.096033Z",
          "shell.execute_reply.started": "2023-06-13T11:51:07.088834Z",
          "shell.execute_reply": "2023-06-13T11:51:07.095196Z"
        },
        "trusted": true,
        "id": "s7yEEtiK9t1V"
      },
      "execution_count": null,
      "outputs": []
    },
    {
      "cell_type": "code",
      "source": [
        "df.head(2).transpose()"
      ],
      "metadata": {
        "execution": {
          "iopub.status.busy": "2023-06-13T11:51:07.097299Z",
          "iopub.execute_input": "2023-06-13T11:51:07.097715Z",
          "iopub.status.idle": "2023-06-13T11:51:07.1176Z",
          "shell.execute_reply.started": "2023-06-13T11:51:07.097689Z",
          "shell.execute_reply": "2023-06-13T11:51:07.116892Z"
        },
        "trusted": true,
        "id": "rmHVzU3z9t1W"
      },
      "execution_count": null,
      "outputs": []
    },
    {
      "cell_type": "code",
      "source": [
        "sns.jointplot(x='High', y='Low', data=df, kind='hex')\n",
        "\n",
        "# Display the plot\n",
        "plt.show()"
      ],
      "metadata": {
        "execution": {
          "iopub.status.busy": "2023-06-13T11:51:07.118548Z",
          "iopub.execute_input": "2023-06-13T11:51:07.119182Z",
          "iopub.status.idle": "2023-06-13T11:51:07.931777Z",
          "shell.execute_reply.started": "2023-06-13T11:51:07.119154Z",
          "shell.execute_reply": "2023-06-13T11:51:07.930757Z"
        },
        "trusted": true,
        "id": "L363ehYo9t1W"
      },
      "execution_count": null,
      "outputs": []
    },
    {
      "cell_type": "code",
      "source": [
        "sns.jointplot(x='High', y='Low', data=df, kind='reg')\n",
        "\n",
        "# Display the plot\n",
        "plt.show()"
      ],
      "metadata": {
        "execution": {
          "iopub.status.busy": "2023-06-13T11:51:07.933219Z",
          "iopub.execute_input": "2023-06-13T11:51:07.933636Z",
          "iopub.status.idle": "2023-06-13T11:51:08.873048Z",
          "shell.execute_reply.started": "2023-06-13T11:51:07.933591Z",
          "shell.execute_reply": "2023-06-13T11:51:08.87222Z"
        },
        "trusted": true,
        "id": "bT29n8Qh9t1W"
      },
      "execution_count": null,
      "outputs": []
    },
    {
      "cell_type": "code",
      "source": [
        "df_long = df[['Open', 'High', 'Low', 'Close']].melt(var_name='Variable', value_name='Value')\n",
        "\n",
        "# Create the violin plot\n",
        "sns.violinplot(x='Variable', y='Value', data=df_long)\n",
        "\n",
        "# Set the plot title and labels\n",
        "plt.title('Violin Plot of Stock Prices')\n",
        "plt.xlabel('Variable')\n",
        "plt.ylabel('Price')\n",
        "\n",
        "# Display the plot\n",
        "plt.show()"
      ],
      "metadata": {
        "execution": {
          "iopub.status.busy": "2023-06-13T11:51:08.874077Z",
          "iopub.execute_input": "2023-06-13T11:51:08.874705Z",
          "iopub.status.idle": "2023-06-13T11:51:09.249928Z",
          "shell.execute_reply.started": "2023-06-13T11:51:08.874676Z",
          "shell.execute_reply": "2023-06-13T11:51:09.248828Z"
        },
        "trusted": true,
        "id": "CX0zs0ah9t1W"
      },
      "execution_count": null,
      "outputs": []
    },
    {
      "cell_type": "code",
      "source": [
        "df.to_csv('clean_data.csv', index=False)"
      ],
      "metadata": {
        "execution": {
          "iopub.status.busy": "2023-06-13T11:51:51.897802Z",
          "iopub.execute_input": "2023-06-13T11:51:51.898229Z",
          "iopub.status.idle": "2023-06-13T11:51:51.910732Z",
          "shell.execute_reply.started": "2023-06-13T11:51:51.898195Z",
          "shell.execute_reply": "2023-06-13T11:51:51.90999Z"
        },
        "trusted": true,
        "id": "zKB73F6z9t1X"
      },
      "execution_count": null,
      "outputs": []
    },
    {
      "cell_type": "code",
      "source": [],
      "metadata": {
        "id": "RGc3h4oS9t1X"
      },
      "execution_count": null,
      "outputs": []
    }
  ]
}